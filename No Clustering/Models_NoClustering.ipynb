{
 "cells": [
  {
   "attachments": {},
   "cell_type": "markdown",
   "metadata": {},
   "source": [
    "# No Clustering "
   ]
  },
  {
   "cell_type": "code",
   "execution_count": 1,
   "metadata": {},
   "outputs": [],
   "source": [
    "# Read data\n",
    "import pickle\n",
    "def load_file(filename):\n",
    "    with open(filename, 'rb') as fi:\n",
    "        data = pickle.load(fi)\n",
    "    return data"
   ]
  },
  {
   "cell_type": "code",
   "execution_count": null,
   "metadata": {},
   "outputs": [],
   "source": [
    "from Data_Preprocessing import general as dp\n",
    "from Data_Preprocessing import calculate_y as cy\n",
    "from Data_Preprocessing import Train_test\n",
    "\n",
    "filename = 'C:/Users/USER/Desktop/AIML/資料/Data'\n",
    "data = load_file(filename)\n",
    "\n",
    "data = data[data.isna()['UNIT_POST_CODE'] == False]\n",
    "data = data[data.isna()['CITY'] == False]\n",
    "data = data[data.isna()['DISTRICT'] == False]\n",
    "data = data[data.isna()['LOCATION_ID'] == False]\n",
    "\n",
    "# Training\n",
    "data = dp.fillnamean(data)  \n",
    "data = dp.drop_isable(data)\n",
    "data = dp.drop_repeatcolumn(data)\n",
    "data = dp.encoding_onehot(data)\n",
    "data['START_DATE'] = dp.date2months(data['START_DATE'], 1950)\n",
    "# data = data.drop(['START_DATE'], axis = 1)\n",
    "data_train, data_test = dp.split_traintest(data, 0.2)\n",
    "data_X, data_y = dp.separate_Xy(data_train)\n",
    "data_Xtest, data_ytest = dp.separate_Xy(data_test)\n",
    "# outlier_pred, data_X, data_y = dp.outlier_Isolation(data_X, data_y)#another outlier method\n",
    "outlier_pred, data_X, data_y = dp.outlier_std(data_X, data_y, 4)\n",
    "data_y = cy.calculate_ymean(data_y)\n",
    "data_ytest = cy.calculate_ymean(data_ytest)"
   ]
  },
  {
   "cell_type": "code",
   "execution_count": 4,
   "metadata": {},
   "outputs": [
    {
     "data": {
      "text/html": [
       "<div>\n",
       "<style scoped>\n",
       "    .dataframe tbody tr th:only-of-type {\n",
       "        vertical-align: middle;\n",
       "    }\n",
       "\n",
       "    .dataframe tbody tr th {\n",
       "        vertical-align: top;\n",
       "    }\n",
       "\n",
       "    .dataframe thead th {\n",
       "        text-align: right;\n",
       "    }\n",
       "</style>\n",
       "<table border=\"1\" class=\"dataframe\">\n",
       "  <thead>\n",
       "    <tr style=\"text-align: right;\">\n",
       "      <th></th>\n",
       "      <th>life_insurance</th>\n",
       "      <th>property_insurance</th>\n",
       "      <th>y_mean</th>\n",
       "    </tr>\n",
       "  </thead>\n",
       "  <tbody>\n",
       "    <tr>\n",
       "      <th>8280</th>\n",
       "      <td>1.437819e+06</td>\n",
       "      <td>133133.583333</td>\n",
       "      <td>785476.354167</td>\n",
       "    </tr>\n",
       "    <tr>\n",
       "      <th>17360</th>\n",
       "      <td>1.114148e+06</td>\n",
       "      <td>38206.750000</td>\n",
       "      <td>576177.125000</td>\n",
       "    </tr>\n",
       "    <tr>\n",
       "      <th>974</th>\n",
       "      <td>1.522667e+05</td>\n",
       "      <td>453.166667</td>\n",
       "      <td>76359.908536</td>\n",
       "    </tr>\n",
       "    <tr>\n",
       "      <th>2473</th>\n",
       "      <td>1.140450e+04</td>\n",
       "      <td>6181.166667</td>\n",
       "      <td>8792.833333</td>\n",
       "    </tr>\n",
       "    <tr>\n",
       "      <th>18729</th>\n",
       "      <td>6.439803e+05</td>\n",
       "      <td>171077.333333</td>\n",
       "      <td>407528.833333</td>\n",
       "    </tr>\n",
       "    <tr>\n",
       "      <th>...</th>\n",
       "      <td>...</td>\n",
       "      <td>...</td>\n",
       "      <td>...</td>\n",
       "    </tr>\n",
       "    <tr>\n",
       "      <th>8347</th>\n",
       "      <td>1.931400e+05</td>\n",
       "      <td>71002.000000</td>\n",
       "      <td>132071.000000</td>\n",
       "    </tr>\n",
       "    <tr>\n",
       "      <th>13626</th>\n",
       "      <td>9.938236e+05</td>\n",
       "      <td>46904.166667</td>\n",
       "      <td>520363.875000</td>\n",
       "    </tr>\n",
       "    <tr>\n",
       "      <th>12208</th>\n",
       "      <td>1.627825e+04</td>\n",
       "      <td>328794.500000</td>\n",
       "      <td>172536.375000</td>\n",
       "    </tr>\n",
       "    <tr>\n",
       "      <th>17371</th>\n",
       "      <td>1.755106e+05</td>\n",
       "      <td>48801.166667</td>\n",
       "      <td>112155.875000</td>\n",
       "    </tr>\n",
       "    <tr>\n",
       "      <th>18453</th>\n",
       "      <td>1.522667e+05</td>\n",
       "      <td>46349.388810</td>\n",
       "      <td>99308.019608</td>\n",
       "    </tr>\n",
       "  </tbody>\n",
       "</table>\n",
       "<p>9405 rows × 3 columns</p>\n",
       "</div>"
      ],
      "text/plain": [
       "       life_insurance  property_insurance         y_mean\n",
       "8280     1.437819e+06       133133.583333  785476.354167\n",
       "17360    1.114148e+06        38206.750000  576177.125000\n",
       "974      1.522667e+05          453.166667   76359.908536\n",
       "2473     1.140450e+04         6181.166667    8792.833333\n",
       "18729    6.439803e+05       171077.333333  407528.833333\n",
       "...               ...                 ...            ...\n",
       "8347     1.931400e+05        71002.000000  132071.000000\n",
       "13626    9.938236e+05        46904.166667  520363.875000\n",
       "12208    1.627825e+04       328794.500000  172536.375000\n",
       "17371    1.755106e+05        48801.166667  112155.875000\n",
       "18453    1.522667e+05        46349.388810   99308.019608\n",
       "\n",
       "[9405 rows x 3 columns]"
      ]
     },
     "execution_count": 4,
     "metadata": {},
     "output_type": "execute_result"
    }
   ],
   "source": [
    "data_y"
   ]
  },
  {
   "cell_type": "code",
   "execution_count": 4,
   "metadata": {},
   "outputs": [
    {
     "name": "stdout",
     "output_type": "stream",
     "text": [
      "START_DATE\n",
      "AGENT_AGE\n",
      "ON_BOARD_AGE\n",
      "SENIORITY\n",
      "AGENT_SEX\n",
      "UNIT_POST_CODE\n",
      "LOCATION_ID\n",
      "login_mean\n",
      "contact_mean\n",
      "contact_custmean\n",
      "visit_mean\n",
      "visit_custmean\n",
      "client_mean\n",
      "memo_mean\n",
      "qnr_mean\n",
      "qnr_custmean\n",
      "consult_mean\n",
      "consult_custmean\n",
      "life_insurance\n",
      "property_insurance\n",
      "AGENT_TITLE_AM\n",
      "AGENT_TITLE_ARM\n",
      "AGENT_TITLE_AVP\n",
      "AGENT_TITLE_CA\n",
      "AGENT_TITLE_CDM\n",
      "AGENT_TITLE_CMD\n",
      "AGENT_TITLE_CMM\n",
      "AGENT_TITLE_CMP\n",
      "AGENT_TITLE_CMS\n",
      "AGENT_TITLE_CS\n",
      "AGENT_TITLE_CSM\n",
      "AGENT_TITLE_CSS\n",
      "AGENT_TITLE_DM\n",
      "AGENT_TITLE_MAM\n",
      "AGENT_TITLE_MM\n",
      "AGENT_TITLE_MS\n",
      "AGENT_TITLE_NCT\n",
      "AGENT_TITLE_SMM\n",
      "AGENT_TITLE_SP\n",
      "AGENT_TITLE_UM\n",
      "AGENT_TITLE_VRM\n",
      "CITY_南投縣\n",
      "CITY_台中市\n",
      "CITY_台北市\n",
      "CITY_台南市\n",
      "CITY_台東縣\n",
      "CITY_嘉義市\n",
      "CITY_基隆市\n",
      "CITY_宜蘭縣\n",
      "CITY_屏東縣\n",
      "CITY_彰化縣\n",
      "CITY_新北市\n",
      "CITY_新竹市\n",
      "CITY_新竹縣\n",
      "CITY_桃園市\n",
      "CITY_澎湖縣\n",
      "CITY_花蓮縣\n",
      "CITY_苗栗縣\n",
      "CITY_金門縣\n",
      "CITY_雲林縣\n",
      "CITY_高雄市\n"
     ]
    }
   ],
   "source": [
    "for i in data:\n",
    "    print(i)"
   ]
  },
  {
   "cell_type": "code",
   "execution_count": 5,
   "metadata": {},
   "outputs": [],
   "source": [
    "data_X = data_X.iloc[:, :18]\n",
    "data_Xtest = data_Xtest.iloc[:, :18]"
   ]
  },
  {
   "cell_type": "code",
   "execution_count": 4,
   "metadata": {},
   "outputs": [
    {
     "data": {
      "text/html": [
       "<div>\n",
       "<style scoped>\n",
       "    .dataframe tbody tr th:only-of-type {\n",
       "        vertical-align: middle;\n",
       "    }\n",
       "\n",
       "    .dataframe tbody tr th {\n",
       "        vertical-align: top;\n",
       "    }\n",
       "\n",
       "    .dataframe thead th {\n",
       "        text-align: right;\n",
       "    }\n",
       "</style>\n",
       "<table border=\"1\" class=\"dataframe\">\n",
       "  <thead>\n",
       "    <tr style=\"text-align: right;\">\n",
       "      <th></th>\n",
       "      <th>life_insurance</th>\n",
       "      <th>property_insurance</th>\n",
       "      <th>y_mean</th>\n",
       "    </tr>\n",
       "  </thead>\n",
       "  <tbody>\n",
       "    <tr>\n",
       "      <th>0</th>\n",
       "      <td>152266.650406</td>\n",
       "      <td>46349.38881</td>\n",
       "      <td>99308.019608</td>\n",
       "    </tr>\n",
       "    <tr>\n",
       "      <th>1</th>\n",
       "      <td>448329.750000</td>\n",
       "      <td>46349.38881</td>\n",
       "      <td>247339.569405</td>\n",
       "    </tr>\n",
       "    <tr>\n",
       "      <th>2</th>\n",
       "      <td>54899.583333</td>\n",
       "      <td>46349.38881</td>\n",
       "      <td>50624.486072</td>\n",
       "    </tr>\n",
       "    <tr>\n",
       "      <th>3</th>\n",
       "      <td>152266.650406</td>\n",
       "      <td>46349.38881</td>\n",
       "      <td>99308.019608</td>\n",
       "    </tr>\n",
       "    <tr>\n",
       "      <th>4</th>\n",
       "      <td>152266.650406</td>\n",
       "      <td>46349.38881</td>\n",
       "      <td>99308.019608</td>\n",
       "    </tr>\n",
       "    <tr>\n",
       "      <th>...</th>\n",
       "      <td>...</td>\n",
       "      <td>...</td>\n",
       "      <td>...</td>\n",
       "    </tr>\n",
       "    <tr>\n",
       "      <th>19764</th>\n",
       "      <td>152266.650406</td>\n",
       "      <td>4765.00000</td>\n",
       "      <td>78515.825203</td>\n",
       "    </tr>\n",
       "    <tr>\n",
       "      <th>19765</th>\n",
       "      <td>152266.650406</td>\n",
       "      <td>46349.38881</td>\n",
       "      <td>99308.019608</td>\n",
       "    </tr>\n",
       "    <tr>\n",
       "      <th>19766</th>\n",
       "      <td>9280.083333</td>\n",
       "      <td>61874.00000</td>\n",
       "      <td>35577.041667</td>\n",
       "    </tr>\n",
       "    <tr>\n",
       "      <th>19767</th>\n",
       "      <td>152266.650406</td>\n",
       "      <td>5115.75000</td>\n",
       "      <td>78691.200203</td>\n",
       "    </tr>\n",
       "    <tr>\n",
       "      <th>19768</th>\n",
       "      <td>14006.166667</td>\n",
       "      <td>2815.75000</td>\n",
       "      <td>8410.958333</td>\n",
       "    </tr>\n",
       "  </tbody>\n",
       "</table>\n",
       "<p>17644 rows × 3 columns</p>\n",
       "</div>"
      ],
      "text/plain": [
       "       life_insurance  property_insurance         y_mean\n",
       "0       152266.650406         46349.38881   99308.019608\n",
       "1       448329.750000         46349.38881  247339.569405\n",
       "2        54899.583333         46349.38881   50624.486072\n",
       "3       152266.650406         46349.38881   99308.019608\n",
       "4       152266.650406         46349.38881   99308.019608\n",
       "...               ...                 ...            ...\n",
       "19764   152266.650406          4765.00000   78515.825203\n",
       "19765   152266.650406         46349.38881   99308.019608\n",
       "19766     9280.083333         61874.00000   35577.041667\n",
       "19767   152266.650406          5115.75000   78691.200203\n",
       "19768    14006.166667          2815.75000    8410.958333\n",
       "\n",
       "[17644 rows x 3 columns]"
      ]
     },
     "execution_count": 4,
     "metadata": {},
     "output_type": "execute_result"
    }
   ],
   "source": [
    "# Cross validation\n",
    "data_Xc, data_yc = dp.separate_Xy(data)\n",
    "cy.calculate_ymean(data_yc)\n",
    "data_yc"
   ]
  },
  {
   "attachments": {},
   "cell_type": "markdown",
   "metadata": {},
   "source": [
    "# Decision tree"
   ]
  },
  {
   "cell_type": "code",
   "execution_count": 18,
   "metadata": {},
   "outputs": [
    {
     "name": "stdout",
     "output_type": "stream",
     "text": [
      "84958.63749521006 19\n"
     ]
    }
   ],
   "source": [
    "from sklearn.tree import DecisionTreeRegressor\n",
    "import matplotlib.pyplot as plt\n",
    "import numpy as np\n",
    "\n",
    "\n",
    "# criterion: {“squared_error”, “friedman_mse”, “absolute_error”, “poisson”}\n",
    "def train_decistiontree(train_X, test_X, train_y, test_y, ml):\n",
    "    model = DecisionTreeRegressor(criterion='squared_error', \n",
    "        min_samples_leaf=19, splitter='best', random_state=5)\n",
    "    model.fit(train_X, train_y)\n",
    "    #y_predtrain = model.predict(train_X) \n",
    "    #loss_train = Train_test.loss_f(y_predtrain, train_y)\n",
    "    y_pred = model.predict(test_X)    \n",
    "    loss = Train_test.loss_f(y_pred, test_y)\n",
    "    return loss, model\n",
    "\n",
    "loss_good = 1000000000000\n",
    "for ml in range(2, 20):\n",
    "    loss, model = train_decistiontree(data_X, data_Xtest, data_y['y_mean'], data_ytest['y_mean'], ml)\n",
    "    \n",
    "    if loss<loss_good:\n",
    "        loss_good = loss\n",
    "        best_ml = ml\n",
    "        best_model = model\n",
    "print(loss_good, best_ml)  \n"
   ]
  },
  {
   "cell_type": "code",
   "execution_count": 19,
   "metadata": {},
   "outputs": [
    {
     "data": {
      "text/plain": [
       "DecisionTreeRegressor(min_samples_leaf=19, random_state=5)"
      ]
     },
     "execution_count": 19,
     "metadata": {},
     "output_type": "execute_result"
    }
   ],
   "source": [
    "best_model"
   ]
  },
  {
   "cell_type": "code",
   "execution_count": 8,
   "metadata": {},
   "outputs": [
    {
     "data": {
      "text/plain": [
       "-62830.8025247267"
      ]
     },
     "execution_count": 8,
     "metadata": {},
     "output_type": "execute_result"
    }
   ],
   "source": [
    "# Cross validation\n",
    "from sklearn import metrics\n",
    "from sklearn.model_selection import cross_val_score\n",
    "from sklearn.tree import DecisionTreeRegressor\n",
    "model = DecisionTreeRegressor(criterion='squared_error', min_samples_leaf=50, splitter='best', random_state=5)\n",
    "scores = cross_val_score(model, data_Xc, data_yc['y_mean'], cv=10, scoring='neg_mean_absolute_error')\n",
    "# metrics.SCORERS.keys()\n",
    "scores.mean()"
   ]
  },
  {
   "attachments": {},
   "cell_type": "markdown",
   "metadata": {},
   "source": [
    "# Random forest"
   ]
  },
  {
   "cell_type": "code",
   "execution_count": 8,
   "metadata": {},
   "outputs": [
    {
     "data": {
      "text/plain": [
       "83707.23991952039"
      ]
     },
     "execution_count": 8,
     "metadata": {},
     "output_type": "execute_result"
    }
   ],
   "source": [
    "from sklearn.ensemble import RandomForestRegressor\n",
    "from Data_Preprocessing import Train_test\n",
    "import pandas as pd\n",
    "import numpy as np\n",
    "\n",
    "# criterion: {“squared_error”, “friedman_mse”, “absolute_error”, “poisson”}\n",
    "rnd_clf = RandomForestRegressor(n_estimators=10, max_leaf_nodes=20,# oob_score = True\n",
    "    n_jobs=-1, random_state=42, criterion='poisson')\n",
    "rnd_clf.fit(data_X, data_y['y_mean'])\n",
    "y_pred_rf = rnd_clf.predict(data_Xtest)\n",
    "loss = Train_test.loss_f(y_pred_rf, data_ytest['y_mean'])\n",
    "loss"
   ]
  },
  {
   "cell_type": "code",
   "execution_count": null,
   "metadata": {},
   "outputs": [],
   "source": [
    "loss_good = 100000\n",
    "for max_leaf in range(2, 30): # max_depth?\n",
    "    for n_estimators in range(10, 50):\n",
    "        print('-----------')\n",
    "        rnd_clf = RandomForestRegressor(n_estimators=n_estimators, max_leaf_nodes=max_leaf,\n",
    "                                        n_jobs=-1, random_state=42, criterion='poisson')\n",
    "        rnd_clf.fit(data_X, data_y['y_mean'])\n",
    "        y_pred_rf = rnd_clf.predict(data_Xtest)\n",
    "        loss = Train_test.loss_f(y_pred_rf, data_ytest['y_mean'])\n",
    "        if loss<loss_good:\n",
    "            loss_good = loss     \n",
    "            ne_good = n_estimators \n",
    "            ml_good = max_leaf\n",
    "\n",
    "rnd_clf = RandomForestRegressor(n_estimators=ne_good, max_leaf_nodes=ml_good,\n",
    "                                n_jobs=-1, random_state=42)\n",
    "rnd_clf.fit(data_X, data_y['y_mean'])\n",
    "y_pred_rf = rnd_clf.predict(data_Xtest)\n",
    "loss = Train_test.loss_f(y_pred_rf, data_ytest['y_mean'])\n",
    "for score, name in zip(rnd_clf.feature_importances_, data_X):\n",
    "    print(round(score, 2), name)\n"
   ]
  },
  {
   "attachments": {},
   "cell_type": "markdown",
   "metadata": {},
   "source": [
    "# Gradient boosting"
   ]
  },
  {
   "cell_type": "code",
   "execution_count": 10,
   "metadata": {},
   "outputs": [],
   "source": [
    "from sklearn.ensemble import GradientBoostingRegressor"
   ]
  },
  {
   "cell_type": "code",
   "execution_count": null,
   "metadata": {},
   "outputs": [],
   "source": [
    "loss_good = 100000\n",
    "# # criterion: {“squared_error”, “friedman_mse”, “absolute_error”, “poisson”}\n",
    "def train_gbrt(data_X, data_y, data_Xtest, data_ytest, lr, max_depth, n_estimators):   \n",
    "    gbrt = GradientBoostingRegressor(max_depth=max_depth, n_estimators=n_estimators,\n",
    "                                    learning_rate=lr, random_state=42, criterion='squared_error', n_iter_no_change=10)\n",
    "    gbrt.fit(data_X, data_y)\n",
    "    y_pred_rf = gbrt.predict(data_Xtest)\n",
    "    loss = Train_test.loss_f(y_pred_rf, data_ytest)\n",
    "    return loss, gbrt\n",
    "\n",
    "\n",
    "loss_old = 100000\n",
    "for max_depth in range(2, 30):    \n",
    "    for n_estimators in range(2, 10):\n",
    "        loss_good = 100000\n",
    "        lr = 0.1\n",
    "        while True:\n",
    "            loss, gbrt = train_gbrt(data_X, data_y['y_mean'], data_Xtest, data_ytest['y_mean'], lr, max_depth, n_estimators)\n",
    "            print(f'md={max_depth}, lr={lr}, ne={n_estimators}, loss={loss}')\n",
    "            if loss>=loss_good:      \n",
    "                lr = lr*0.8\n",
    "                if lr <= 0.01:\n",
    "                    if loss_good<loss_old:\n",
    "                        gbrt_good = GradientBoostingRegressor(max_depth=md_good, n_estimators=ne_good,\n",
    "                            learning_rate=lr, random_state=42)\n",
    "                    break\n",
    "            else:\n",
    "                # lr = lr*1.1\n",
    "                lr_good = lr\n",
    "                md_good = max_depth\n",
    "                ne_good = n_estimators\n",
    "                loss_good = loss     \n",
    "gbrt_good.fit(data_X, data_y['y_mean'])\n",
    "y_pred_rf = gbrt_good.predict(data_Xtest)\n",
    "loss = Train_test.loss_f(y_pred_rf, data_ytest['y_mean'])"
   ]
  },
  {
   "cell_type": "code",
   "execution_count": 26,
   "metadata": {},
   "outputs": [
    {
     "ename": "NameError",
     "evalue": "name 'gbrt_good' is not defined",
     "output_type": "error",
     "traceback": [
      "\u001b[1;31m---------------------------------------------------------------------------\u001b[0m",
      "\u001b[1;31mNameError\u001b[0m                                 Traceback (most recent call last)",
      "\u001b[1;32m~\\AppData\\Local\\Temp/ipykernel_28912/1173841060.py\u001b[0m in \u001b[0;36m<module>\u001b[1;34m\u001b[0m\n\u001b[1;32m----> 1\u001b[1;33m \u001b[0mgbrt_good\u001b[0m\u001b[1;33m\u001b[0m\u001b[1;33m\u001b[0m\u001b[0m\n\u001b[0m",
      "\u001b[1;31mNameError\u001b[0m: name 'gbrt_good' is not defined"
     ]
    }
   ],
   "source": [
    "gbrt_good"
   ]
  },
  {
   "cell_type": "code",
   "execution_count": 35,
   "metadata": {},
   "outputs": [
    {
     "data": {
      "text/plain": [
       "58961.818983006866"
      ]
     },
     "execution_count": 35,
     "metadata": {},
     "output_type": "execute_result"
    }
   ],
   "source": [
    "from sklearn.metrics import mean_squared_error\n",
    "gbrt_best = GradientBoostingRegressor(\n",
    "    learning_rate=2.1040543606193775e-10, max_depth=29,\n",
    "    n_estimators=9, random_state=42, n_iter_no_change=10) # n_iter_no_change??\n",
    "gbrt_best.fit(data_X, data_y['y_mean'])\n",
    "y_pred_rf = gbrt_best.predict(data_Xtest)\n",
    "loss = Train_test.loss_f(y_pred_rf, data_ytest['y_mean'])\n",
    "#loss = mean_squared_error(y_pred_rf, data_ytest['y_mean'])\n",
    "loss"
   ]
  },
  {
   "attachments": {},
   "cell_type": "markdown",
   "metadata": {},
   "source": [
    "# HistGradientBoostingRegressor"
   ]
  },
  {
   "cell_type": "code",
   "execution_count": 12,
   "metadata": {},
   "outputs": [
    {
     "data": {
      "text/plain": [
       "83970.82274431223"
      ]
     },
     "execution_count": 12,
     "metadata": {},
     "output_type": "execute_result"
    }
   ],
   "source": [
    "from sklearn.ensemble import HistGradientBoostingRegressor\n",
    "from sklearn.pipeline import make_pipeline\n",
    "\n",
    "hgb_reg = HistGradientBoostingRegressor(random_state=42) # categorical_features??\n",
    "hgb_reg.fit(data_X, data_y['y_mean'])\n",
    "y_pred_rf = hgb_reg.predict(data_Xtest)\n",
    "loss = Train_test.loss_f(y_pred_rf, data_ytest['y_mean'])\n",
    "loss"
   ]
  },
  {
   "attachments": {},
   "cell_type": "markdown",
   "metadata": {},
   "source": [
    "# Stacking"
   ]
  },
  {
   "cell_type": "code",
   "execution_count": 17,
   "metadata": {},
   "outputs": [
    {
     "data": {
      "text/plain": [
       "90355.12538810044"
      ]
     },
     "execution_count": 17,
     "metadata": {},
     "output_type": "execute_result"
    }
   ],
   "source": [
    "from sklearn.svm import SVC\n",
    "from sklearn.svm import LinearSVR\n",
    "from sklearn.pipeline import make_pipeline\n",
    "from sklearn.preprocessing import StandardScaler\n",
    "\n",
    "sc = StandardScaler()\n",
    "\n",
    "svm_reg = make_pipeline(StandardScaler(), LinearSVR(epsilon = 0.5, random_state = 42))\n",
    "svm_reg.fit(data_X, data_y['y_mean'])\n",
    "y_pred = svm_reg.predict(data_Xtest)\n",
    "loss = Train_test.loss_f(y_pred, data_ytest['y_mean'])\n",
    "loss"
   ]
  },
  {
   "cell_type": "code",
   "execution_count": 75,
   "metadata": {},
   "outputs": [
    {
     "data": {
      "text/plain": [
       "68731.7938196908"
      ]
     },
     "execution_count": 75,
     "metadata": {},
     "output_type": "execute_result"
    }
   ],
   "source": [
    "from sklearn.ensemble import StackingRegressor\n",
    "from sklearn.linear_model import LogisticRegression\n",
    "from sklearn.svm import LinearSVR\n",
    "from sklearn.pipeline import make_pipeline\n",
    "from sklearn.preprocessing import StandardScaler\n",
    "\n",
    "n_estimators = [\n",
    "        ('rf', RandomForestRegressor(random_state=42)),\n",
    "        ('svc', make_pipeline(StandardScaler(), LinearSVR(epsilon = 0.5, random_state = 42))),\n",
    "        ('gbr', GradientBoostingRegressor(learning_rate=2.1040543606193775e-23, max_depth=29,\n",
    "                          n_estimators=9, random_state=42)),\n",
    "        ('hgbr', HistGradientBoostingRegressor(random_state=42))        \n",
    "    ]\n",
    "stacking_reg = StackingRegressor(\n",
    "    estimators=[\n",
    "        ('rf', RandomForestRegressor(random_state=42)),\n",
    "        ('svc', make_pipeline(StandardScaler(), LinearSVR(epsilon = 0.5, random_state = 42))),\n",
    "    ],\n",
    "    final_estimator=GradientBoostingRegressor(learning_rate=2.1040543606193775e-23, max_depth=29,\n",
    "                          n_estimators=9, random_state=42),\n",
    "    cv=5  # number of cross-validation folds # cross validation for other model    \n",
    ")\n",
    "stacking_reg.fit(data_X, data_y['y_mean'])\n",
    "y_pred = stacking_reg.predict(data_Xtest)\n",
    "loss = Train_test.loss_f(y_pred, data_ytest['y_mean'])\n",
    "loss"
   ]
  }
 ],
 "metadata": {
  "kernelspec": {
   "display_name": "base",
   "language": "python",
   "name": "python3"
  },
  "language_info": {
   "codemirror_mode": {
    "name": "ipython",
    "version": 3
   },
   "file_extension": ".py",
   "mimetype": "text/x-python",
   "name": "python",
   "nbconvert_exporter": "python",
   "pygments_lexer": "ipython3",
   "version": "3.9.7"
  },
  "orig_nbformat": 4,
  "vscode": {
   "interpreter": {
    "hash": "263930470851f494f0ed2879c35b57985588df20f9e529b86e97dd5eb9ddc466"
   }
  }
 },
 "nbformat": 4,
 "nbformat_minor": 2
}
