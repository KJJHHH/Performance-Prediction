{
 "cells": [
  {
   "cell_type": "code",
   "execution_count": null,
   "metadata": {},
   "outputs": [],
   "source": [
    "# Read data\n",
    "import pickle\n",
    "def load_file(filename):\n",
    "    with open(filename, 'rb') as fi:\n",
    "        data = pickle.load(fi)\n",
    "    return data\n",
    "\n",
    "import sys \n",
    "sys.path.append(\"..\") \n",
    "from Data_Preprocessing import general as dp\n",
    "from Data_Preprocessing import calculate_y as cy\n",
    "from Data_Preprocessing import Train_test\n",
    "\n",
    "filename = 'C:/Users/USER/Desktop/AIML/資料/Data_cluster'\n",
    "data = load_file(filename)\n",
    "\n",
    "cluster = data.groupby(['cluster'])\n",
    "cluster.get_group(1)"
   ]
  }
 ],
 "metadata": {
  "kernelspec": {
   "display_name": "base",
   "language": "python",
   "name": "python3"
  },
  "language_info": {
   "codemirror_mode": {
    "name": "ipython",
    "version": 3
   },
   "file_extension": ".py",
   "mimetype": "text/x-python",
   "name": "python",
   "nbconvert_exporter": "python",
   "pygments_lexer": "ipython3",
   "version": "3.9.7"
  },
  "orig_nbformat": 4,
  "vscode": {
   "interpreter": {
    "hash": "263930470851f494f0ed2879c35b57985588df20f9e529b86e97dd5eb9ddc466"
   }
  }
 },
 "nbformat": 4,
 "nbformat_minor": 2
}
